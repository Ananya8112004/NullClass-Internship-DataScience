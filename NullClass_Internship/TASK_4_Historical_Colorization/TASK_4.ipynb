{
  "nbformat": 4,
  "nbformat_minor": 0,
  "metadata": {
    "colab": {
      "provenance": []
    },
    "kernelspec": {
      "name": "python3",
      "display_name": "Python 3"
    },
    "language_info": {
      "name": "python"
    }
  },
  "cells": [
    {
      "cell_type": "code",
      "execution_count": 1,
      "metadata": {
        "id": "JnYBJ_NjrEKB"
      },
      "outputs": [],
      "source": [
        "!pip install gradio opencv-python torch torchvision -q"
      ]
    },
    {
      "cell_type": "code",
      "source": [
        "import cv2\n",
        "import numpy as np\n",
        "import gradio as gr\n",
        "from PIL import Image\n",
        "import requests, os"
      ],
      "metadata": {
        "id": "9vDv0DrKrFgp"
      },
      "execution_count": 2,
      "outputs": []
    },
    {
      "cell_type": "code",
      "source": [
        "# ---------------------------\n",
        "# 1. Dummy Era Classifier (replace with trained model)\n",
        "# ---------------------------\n",
        "class DummyEraClassifier:\n",
        "    eras = [\"1900s\", \"1930s\", \"1950s\", \"1980s\"]\n",
        "\n",
        "    def predict(self, img):\n",
        "        # For demo: pick randomly (replace with CNN)\n",
        "        return np.random.choice(self.eras)\n",
        "\n",
        "era_model = DummyEraClassifier()"
      ],
      "metadata": {
        "id": "5VTCj-JvrFnL"
      },
      "execution_count": 8,
      "outputs": []
    },
    {
      "cell_type": "code",
      "source": [
        "# ---------------------------\n",
        "# 2. Simple \"Base Colorization\" (convert grayscale -> fake color)\n",
        "#    (Replace with DeOldify or Zhang model for real results)\n",
        "# ---------------------------\n",
        "def simple_colorize(gray_img):\n",
        "    gray = np.array(gray_img.convert(\"L\")) / 255.0\n",
        "    lab = np.zeros((gray.shape[0], gray.shape[1], 3))\n",
        "    lab[:, :, 0] = gray * 100  # L channel\n",
        "    lab[:, :, 1:] = np.random.uniform(-20, 20, size=(gray.shape[0], gray.shape[1], 2))\n",
        "    return Image.fromarray((color.lab2rgb(lab) * 255).astype(\"uint8\"))\n"
      ],
      "metadata": {
        "id": "R7_iHqzqrFqp"
      },
      "execution_count": 9,
      "outputs": []
    },
    {
      "cell_type": "code",
      "source": [
        "# ---------------------------\n",
        "# 3. Apply Palette Adjustment per Era\n",
        "# ---------------------------\n",
        "era_palettes = {\n",
        "    \"1900s\": np.array([180, 150, 120]),   # sepia\n",
        "    \"1930s\": np.array([200, 180, 160]),\n",
        "    \"1950s\": np.array([220, 200, 200]),   # pastel\n",
        "    \"1980s\": np.array([250, 180, 220])    # neon-ish\n",
        "}\n",
        "\n",
        "def apply_palette(img, era):\n",
        "    arr = np.array(img).astype(np.float32)\n",
        "    tint = era_palettes[era]\n",
        "    arr = 0.7 * arr + 0.3 * tint  # blend\n",
        "    return Image.fromarray(np.clip(arr, 0, 255).astype(\"uint8\"))"
      ],
      "metadata": {
        "id": "UbT_l5IdslKF"
      },
      "execution_count": 10,
      "outputs": []
    },
    {
      "cell_type": "code",
      "source": [
        "# ---------------------------\n",
        "# 4. Full Pipeline\n",
        "# ---------------------------\n",
        "def process(img, manual_era=None):\n",
        "    auto_era = era_model.predict(img)\n",
        "    era = manual_era if manual_era != \"Auto\" else auto_era\n",
        "\n",
        "    base_col = simple_colorize(img)\n",
        "    final_col = apply_palette(base_col, era)\n",
        "\n",
        "    return final_col, f\"Predicted Era: {auto_era} | Using: {era}\"\n"
      ],
      "metadata": {
        "id": "aZkVtAK8slUj"
      },
      "execution_count": 11,
      "outputs": []
    },
    {
      "cell_type": "code",
      "source": [
        "import gradio as gr\n",
        "import numpy as np\n",
        "import cv2\n",
        "from PIL import Image, ImageEnhance\n",
        "\n",
        "# Apply fake colorization + timeline filter\n",
        "def time_based_colorize(image, era):\n",
        "    img = np.array(image.convert(\"RGB\"))\n",
        "    img = cv2.cvtColor(img, cv2.COLOR_RGB2BGR)\n",
        "\n",
        "    # Base fake colorization\n",
        "    img[:, :, 0] = img[:, :, 0] * 0.6   # reduce blue\n",
        "    img[:, :, 1] = img[:, :, 1] * 0.9   # reduce green\n",
        "    img[:, :, 2] = img[:, :, 2] * 1.4   # boost red\n",
        "    img = np.clip(img, 0, 255).astype(\"uint8\")\n",
        "    pil_img = Image.fromarray(cv2.cvtColor(img, cv2.COLOR_BGR2RGB))\n",
        "\n",
        "    # Apply \"era\" style\n",
        "    if era == \"1900s\":\n",
        "        pil_img = pil_img.convert(\"L\").convert(\"RGB\")  # grayscale\n",
        "        pil_img = ImageEnhance.Color(pil_img).enhance(0.3)  # muted\n",
        "        pil_img = ImageEnhance.Brightness(pil_img).enhance(1.1)\n",
        "    elif era == \"1950s\":\n",
        "        pil_img = ImageEnhance.Color(pil_img).enhance(1.2)  # pastel-like\n",
        "        pil_img = ImageEnhance.Brightness(pil_img).enhance(1.1)\n",
        "        pil_img = ImageEnhance.Contrast(pil_img).enhance(0.9)\n",
        "    elif era == \"1980s\":\n",
        "        pil_img = ImageEnhance.Color(pil_img).enhance(1.6)  # vibrant\n",
        "        pil_img = ImageEnhance.Brightness(pil_img).enhance(1.2)\n",
        "        pil_img = ImageEnhance.Contrast(pil_img).enhance(1.2)\n",
        "\n",
        "    return pil_img\n",
        "\n",
        "# Gradio interface\n",
        "demo = gr.Interface(\n",
        "    fn=time_based_colorize,\n",
        "    inputs=[\n",
        "        gr.Image(type=\"pil\", label=\"Upload Grayscale Image\"),\n",
        "        gr.Radio([\"1900s\", \"1950s\", \"1980s\"], label=\"Choose Era\", value=\"1950s\")\n",
        "    ],\n",
        "    outputs=gr.Image(type=\"pil\", label=\"Time-based Colorized Image\"),\n",
        "    title=\"Time-Based Historical Colorization\",\n",
        "    description=\"Upload a black & white photo and colorize it according to the chosen time period.\"\n",
        ")\n",
        "\n",
        "demo.launch()\n"
      ],
      "metadata": {
        "colab": {
          "base_uri": "https://localhost:8080/",
          "height": 646
        },
        "id": "pAMaROoQslYB",
        "outputId": "3d109041-3c0b-4aba-dfe2-b004c8ec463c"
      },
      "execution_count": 18,
      "outputs": [
        {
          "output_type": "stream",
          "name": "stdout",
          "text": [
            "It looks like you are running Gradio on a hosted Jupyter notebook, which requires `share=True`. Automatically setting `share=True` (you can turn this off by setting `share=False` in `launch()` explicitly).\n",
            "\n",
            "Colab notebook detected. To show errors in colab notebook, set debug=True in launch()\n",
            "* Running on public URL: https://fd236bcccd2e864163.gradio.live\n",
            "\n",
            "This share link expires in 1 week. For free permanent hosting and GPU upgrades, run `gradio deploy` from the terminal in the working directory to deploy to Hugging Face Spaces (https://huggingface.co/spaces)\n"
          ]
        },
        {
          "output_type": "display_data",
          "data": {
            "text/plain": [
              "<IPython.core.display.HTML object>"
            ],
            "text/html": [
              "<div><iframe src=\"https://fd236bcccd2e864163.gradio.live\" width=\"100%\" height=\"500\" allow=\"autoplay; camera; microphone; clipboard-read; clipboard-write;\" frameborder=\"0\" allowfullscreen></iframe></div>"
            ]
          },
          "metadata": {}
        },
        {
          "output_type": "execute_result",
          "data": {
            "text/plain": []
          },
          "metadata": {},
          "execution_count": 18
        }
      ]
    }
  ]
}